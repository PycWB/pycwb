{
 "cells": [
  {
   "cell_type": "code",
   "execution_count": 2,
   "metadata": {},
   "outputs": [
    {
     "name": "stdout",
     "output_type": "stream",
     "text": [
      "Version used for this test: 0.28.1.dev4+g3319959.d20250228\n"
     ]
    }
   ],
   "source": [
    "# add current directory to path\n",
    "import sys\n",
    "sys.path.insert(0, '..')\n",
    "\n",
    "import pycwb\n",
    "\n",
    "print(\"Version used for this test: %s\" % pycwb.__version__)"
   ]
  },
  {
   "cell_type": "code",
   "execution_count": null,
   "metadata": {},
   "outputs": [],
   "source": [
    "from pycwb.config import Config\n",
    "from pycwb.modules.logger import logger_init\n",
    "from pycwb.modules.injection.par_generator import get_injection_list_from_parameters, repeat\n",
    "from pycwb.modules.injection.sky_distribution import generate_sky_distribution, distribute_injections_on_sky\n",
    "from pycwb.modules.injection.injection import distribute_inj_in_gps_time\n",
    "from math import ceil\n",
    "import numpy as np\n",
    "\n",
    "logger_init()\n",
    "\n",
    "injection = {\n",
    "    'rate': '1/200',\n",
    "    'jitter': 50,\n",
    "    'allow_reuse_data': True,\n",
    "    'repeat_injection': 10,\n",
    "    'sky_distribution': {\n",
    "        'type': 'UniformAllSky'\n",
    "    },\n",
    "    'parameters_from_python': {\n",
    "        'file': 'injection_parameters.py',\n",
    "        'function': 'get_injection_parameters'\n",
    "    },\n",
    "    'approximant': 'Ringdown',\n",
    "    'generator': {\n",
    "        'module': './input/waveform.py', \n",
    "        'function': 'get_td_waveform'\n",
    "    }\n",
    "}\n",
    "\n",
    "repeat_injection = injection['repeat_injection']\n",
    "rate = eval(injection['rate'])\n",
    "jitter = injection['jitter']\n",
    "sky_distribution = injection['sky_distribution']\n",
    "\n",
    "print(f\"Repeat injection: {repeat_injection}\")\n",
    "print(f\"Rate: {rate}\")\n",
    "print(f\"Jitter: {jitter}\")\n",
    "print(f\"Sky distribution: {sky_distribution}\")\n",
    "\n",
    "total_live_time = 1000000\n",
    "start_gps_time = 1262304000\n",
    "end_gps_time = start_gps_time + total_live_time\n",
    "injections = get_injection_list_from_parameters(injection)\n",
    "print(f\"Number of injections: {len(injections)}\")\n",
    "injections = repeat(injections, repeat_injection)\n",
    "print(f\"Number of injections after repeat: {len(injections)}\")"
   ]
  },
  {
   "cell_type": "code",
   "execution_count": null,
   "metadata": {},
   "outputs": [],
   "source": [
    "%matplotlib inline\n",
    "import matplotlib.pyplot as plt\n",
    "\n",
    "sky_distribution = {'type': 'UniformAllSky'}\n",
    "\n",
    "sky_locations = generate_sky_distribution(sky_distribution, len(injections))\n",
    "print(f\"Number of sky locations: {len(sky_locations[0])}\")\n",
    "distribute_injections_on_sky(injections, sky_locations)\n",
    "print(f\"Number of injections after sky distribution: {len(injections)}\")\n",
    "\n",
    "ra = [inj['ra'] for inj in injections]\n",
    "dec = [inj['dec'] for inj in injections]\n",
    "# plot sky distribution\n",
    "plt.figure(figsize=(4, 2))\n",
    "plt.scatter(ra, dec, s=1)\n",
    "plt.xlabel('RA')\n",
    "plt.ylabel('DEC')\n",
    "plt.show()"
   ]
  },
  {
   "cell_type": "markdown",
   "metadata": {},
   "source": [
    "## Patch sky distribution"
   ]
  },
  {
   "cell_type": "code",
   "execution_count": null,
   "metadata": {},
   "outputs": [],
   "source": [
    "%matplotlib inline\n",
    "import matplotlib.pyplot as plt\n",
    "\n",
    "sky_distribution = {\n",
    "    'type': 'Patch',\n",
    "    'patch': {\n",
    "        'center': [90, 90],\n",
    "        'radius': 10\n",
    "    }\n",
    "}\n",
    "\n",
    "sky_locations = generate_sky_distribution(sky_distribution, len(injections))\n",
    "print(f\"Number of sky locations: {len(sky_locations[0])}\")\n",
    "distribute_injections_on_sky(injections, sky_locations)\n",
    "print(f\"Number of injections after sky distribution: {len(injections)}\")\n",
    "\n",
    "ra = np.array([inj['ra'] for inj in injections])\n",
    "dec = np.array([inj['dec'] for inj in injections])\n",
    "# plot sky distribution\n",
    "plt.figure(figsize=(4, 4))\n",
    "plt.scatter(ra, dec, s=1)\n",
    "plt.xlabel('RA')\n",
    "plt.ylabel('DEC')\n",
    "plt.show()"
   ]
  },
  {
   "cell_type": "markdown",
   "metadata": {},
   "source": [
    "## Distribute in time"
   ]
  },
  {
   "cell_type": "code",
   "execution_count": null,
   "metadata": {},
   "outputs": [],
   "source": [
    "%matplotlib inline\n",
    "import matplotlib.pyplot as plt\n",
    "\n",
    "distribute_inj_in_gps_time(injections, rate, jitter, start_gps_time, end_gps_time, shuffle=False)\n",
    "\n",
    "plt.figure(figsize=(4, 4))\n",
    "plt.plot([inj['gps_time'] for inj in injections], [inj['trail_idx'] for inj in injections], 'o')\n",
    "plt.xlim(start_gps_time, end_gps_time)\n",
    "plt.show()"
   ]
  },
  {
   "cell_type": "code",
   "execution_count": null,
   "metadata": {},
   "outputs": [],
   "source": [
    "injections[0]"
   ]
  },
  {
   "cell_type": "code",
   "execution_count": null,
   "metadata": {},
   "outputs": [],
   "source": []
  }
 ],
 "metadata": {
  "kernelspec": {
   "display_name": "pycwb_x64",
   "language": "python",
   "name": "python3"
  },
  "language_info": {
   "codemirror_mode": {
    "name": "ipython",
    "version": 3
   },
   "file_extension": ".py",
   "mimetype": "text/x-python",
   "name": "python",
   "nbconvert_exporter": "python",
   "pygments_lexer": "ipython3",
   "version": "3.11.0"
  }
 },
 "nbformat": 4,
 "nbformat_minor": 2
}
