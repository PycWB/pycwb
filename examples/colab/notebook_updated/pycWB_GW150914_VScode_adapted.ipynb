{
  "cells": [
    {
      "cell_type": "markdown",
      "metadata": {
        "id": "gyKmxDhkNBHK"
      },
      "source": [
        "# PycWB Tutorial"
      ]
    },
    {
      "cell_type": "markdown",
      "metadata": {
        "id": "IBiG88SnI7TZ"
      },
      "source": [
        "## 1. Run your first example"
      ]
    },
    {
      "cell_type": "markdown",
      "metadata": {
        "id": "3rlgCGMTPNLw"
      },
      "source": [
        "First, we download the example user parameter file"
      ]
    },
    {
      "cell_type": "code",
      "execution_count": null,
      "metadata": {
        "id": "_0NtWMAXJFk-"
      },
      "outputs": [],
      "source": [
        "user_parameters = \"\"\"\n",
        "analysis: \"2G\"\n",
        "cfg_search: \"r\"\n",
        "\n",
        "optim: False\n",
        "\n",
        "###### network configuration ######\n",
        "ifo: [\"L1\",\"H1\"]\n",
        "refIFO: \"L1\"\n",
        "\n",
        "inRate: 16384\n",
        "# lags\n",
        "lagSize: 1\n",
        "lagStep: 1.\n",
        "lagOff: 0\n",
        "lagMax: 0\n",
        "\n",
        "# superlags\n",
        "slagSize: 0 # number of super lags (simulation=1) - if slagSize=0 -> Standard Segments\n",
        "slagMin: 0\n",
        "slagMax: 0\n",
        "slagOff: 0\n",
        "\n",
        "# job\n",
        "segLen: 1200\n",
        "segMLS: 600\n",
        "segTHR: 200\n",
        "segEdge: 10\n",
        "\n",
        "# frequency\n",
        "fLow: 16.\n",
        "fHigh: 1024.\n",
        "\n",
        "\n",
        "levelR: 3\n",
        "l_low: 4 # low frequency resolution level\t\t// std (sthr = 2)\n",
        "l_high: 10 # high frequency resolution level\t// std (sthr = 8)\n",
        "\n",
        "wdmXTalk: \"wdmXTalk/OverlapCatalog16-1024.bin\"\n",
        "\n",
        "healpix: 7\n",
        "\n",
        "###### cWB production thresholds & regulators ######\n",
        "\n",
        "bpp: 0.001\n",
        "subnet: 0.5\n",
        "subcut: 0.0\n",
        "netRHO: 5.5\n",
        "# cedRHO: 5.0\n",
        "netCC: 0.5\n",
        "Acore: 1.7\n",
        "Tgap: 0.2\n",
        "Fgap: 128.0\n",
        "delta: 0.5\n",
        "cfg_gamma: -1.0\n",
        "LOUD: 300\n",
        "\n",
        "pattern: 5\n",
        "\n",
        "iwindow: 30\n",
        "\n",
        "nSky: 196608\n",
        "\n",
        "# simulation\n",
        "# simulation: None\n",
        "nfactor: 1\n",
        "\"\"\"\n",
        "\n",
        "with open('user_parameters.yaml', 'w') as fp:\n",
        "    fp.write(user_parameters)"
      ]
    },
    {
      "cell_type": "code",
      "execution_count": null,
      "metadata": {
        "colab": {
          "base_uri": "https://localhost:8080/"
        },
        "id": "bglNmAxfNyUf",
        "outputId": "1a78172b-5d4c-4f71-be2b-9d49915355cd"
      },
      "outputs": [],
      "source": [
        "import os\n",
        "import shutil\n",
        "import pycwb\n",
        "from pycwb.config import Config\n",
        "from pycwb.modules.logger import logger_init\n",
        "\n",
        "temp_dir_for_plots = './temp_dir_for_plots/'\n",
        "\n",
        "if os.path.exists(temp_dir_for_plots):\n",
        "    shutil.rmtree(temp_dir_for_plots)\n",
        "os.makedirs(temp_dir_for_plots)\n",
        "\n",
        "\n",
        "if not os.environ.get('HOME_WAT_FILTERS'):\n",
        "    pyburst_path = os.path.dirname(os.path.abspath(pycwb.__file__))\n",
        "    os.environ['HOME_WAT_FILTERS'] = f\"{os.path.abspath(pyburst_path)}/vendor\"\n",
        "\n",
        "logger_init()\n",
        "\n",
        "config = Config('./user_parameters.yaml')"
      ]
    },
    {
      "cell_type": "markdown",
      "metadata": {
        "id": "BFTB1Ys5PWIC"
      },
      "source": [
        "generate injected data for each detector with given parameters in config"
      ]
    },
    {
      "cell_type": "code",
      "execution_count": null,
      "metadata": {
        "colab": {
          "base_uri": "https://localhost:8080/"
        },
        "id": "_aOkGvtJN0Gp",
        "outputId": "fe2de9c2-2194-4dcc-9269-faf23af6c43c"
      },
      "outputs": [],
      "source": [
        "from pycwb.modules.read_data import read_from_catalog, read_from_online\n",
        "from gwpy.timeseries import TimeSeries\n",
        "\n",
        "import requests\n",
        "from gwosc.locate import get_urls\n",
        "t0 = 1126259462.4\n",
        "\n",
        "data = []\n",
        "for ifo in config.ifo:\n",
        "  url = get_urls(ifo, t0, t0)[-1]\n",
        "\n",
        "  print('Downloading: ' , url)\n",
        "  fn = os.path.basename(url)\n",
        "  with open(fn,'wb') as strainfile:\n",
        "      straindata = requests.get(url)\n",
        "      strainfile.write(straindata.content)\n",
        "\n",
        "  strain = TimeSeries.read(fn,format='hdf5.gwosc')\n",
        "  d = strain.crop(t0-150, t0+150)\n",
        "  d_resampled = d.resample(2048)\n",
        "  data.append(d_resampled)"
      ]
    },
    {
      "cell_type": "markdown",
      "metadata": {
        "id": "5Rg-9x1SPZEs"
      },
      "source": [
        "apply data conditioning to the data"
      ]
    },
    {
      "cell_type": "code",
      "execution_count": null,
      "metadata": {
        "colab": {
          "base_uri": "https://localhost:8080/",
          "height": 475
        },
        "id": "HQSVE7zAN7RS",
        "outputId": "49d675b1-cd9a-43d2-fc12-7e7684bb536b"
      },
      "outputs": [],
      "source": [
        "from pycwb.modules.data_conditioning import data_conditioning\n",
        "from pycwb.modules.plot import plot_spectrogram\n",
        "\n",
        "strains, nRMS = data_conditioning(config, data)\n",
        "\n",
        "# plot the spectrogram for L1\n",
        "plt = plot_spectrogram(strains[0], gwpy_plot=True)\n",
        "ax = plt.gca()\n",
        "ax.set_ylim(15,1024)\n",
        "plt.savefig(temp_dir_for_plots + f'spectrogram.png')\n",
        "plt.close()\n",
        "strains, nRMS"
      ]
    },
    {
      "cell_type": "markdown",
      "metadata": {
        "id": "KDhGUt9gPcwn"
      },
      "source": [
        "calculate coherence"
      ]
    },
    {
      "cell_type": "code",
      "execution_count": null,
      "metadata": {
        "colab": {
          "base_uri": "https://localhost:8080/"
        },
        "id": "N2BhSkXsN9bB",
        "outputId": "2f17767d-c335-4760-963a-6fd8aba45b02"
      },
      "outputs": [],
      "source": [
        "from pycwb.modules.coherence import coherence\n",
        "\n",
        "# calculate coherence\n",
        "fragment_clusters = coherence(config, strains, nRMS)"
      ]
    },
    {
      "cell_type": "code",
      "execution_count": null,
      "metadata": {
        "id": "iws94J0CAdlS"
      },
      "outputs": [],
      "source": [
        "# %matplotlib inline\n",
        "# from gwpy.spectrogram import Spectrogram\n",
        "# for fragment_cluster in fragment_clusters:\n",
        "#   for cluster in fragment_cluster.clusters:\n",
        "#       merged_map, start, dt, df = cluster.get_sparse_map(\"likelihood\")\n",
        "\n",
        "#       plt = Spectrogram(merged_map, t0=start, dt=dt, f0=0, df=df).plot()\n",
        "#       plt.colorbar()"
      ]
    },
    {
      "cell_type": "markdown",
      "metadata": {
        "id": "Fe_W000YPi-S"
      },
      "source": [
        "supercluster"
      ]
    },
    {
      "cell_type": "code",
      "execution_count": null,
      "metadata": {
        "colab": {
          "base_uri": "https://localhost:8080/"
        },
        "id": "wcouqZVLN_V8",
        "outputId": "8cd48175-3821-49be-c329-9d86d17da91f"
      },
      "outputs": [],
      "source": [
        "from pycwb.modules.super_cluster import supercluster\n",
        "from pycwb.types.network import Network\n",
        "\n",
        "network = Network(config, strains, nRMS)\n",
        "\n",
        "pwc_list = supercluster(config, network, fragment_clusters, strains)"
      ]
    },
    {
      "cell_type": "code",
      "execution_count": null,
      "metadata": {
        "colab": {
          "base_uri": "https://localhost:8080/",
          "height": 1000
        },
        "id": "GqADJt-5-ry3",
        "outputId": "1bdf0d9c-c22b-49eb-a446-6ca439bb3944"
      },
      "outputs": [],
      "source": [
        "# %matplotlib inline\n",
        "from gwpy.spectrogram import Spectrogram\n",
        "\n",
        "i=0\n",
        "for cluster in pwc_list[0].clusters:\n",
        "    merged_map, start, dt, df = cluster.get_sparse_map(\"likelihood\")\n",
        "    i+=1\n",
        "    plt = Spectrogram(merged_map, t0=start, dt=dt, f0=0, df=df).plot()\n",
        "    plt.colorbar()\n",
        "    plt.savefig(temp_dir_for_plots + f'sparse_map_{str(i)}_.png')\n",
        "plt.close()"
      ]
    },
    {
      "cell_type": "markdown",
      "metadata": {
        "id": "zyMcRkq2Pli4"
      },
      "source": [
        "Likelihood"
      ]
    },
    {
      "cell_type": "code",
      "execution_count": null,
      "metadata": {
        "colab": {
          "base_uri": "https://localhost:8080/"
        },
        "id": "OVnEa88UOBHR",
        "outputId": "20e06a53-2798-4952-fb41-dcdc777ee9a4"
      },
      "outputs": [],
      "source": [
        "from pycwb.modules.likelihood import likelihood\n",
        "\n",
        "events, clusters, skymap_statistics = likelihood(config, network, pwc_list)"
      ]
    },
    {
      "cell_type": "markdown",
      "metadata": {
        "id": "s04-VqdXPzAT"
      },
      "source": [
        "plot statistics"
      ]
    },
    {
      "cell_type": "code",
      "execution_count": null,
      "metadata": {
        "colab": {
          "base_uri": "https://localhost:8080/",
          "height": 341
        },
        "id": "XCDs-iwQODG5",
        "outputId": "241f1bb2-eef5-4ece-e358-8120830ee029"
      },
      "outputs": [],
      "source": [
        "#%matplotlib inline\n",
        "from pycwb.modules.plot import plot_event_on_spectrogram\n",
        "\n",
        "plt = plot_event_on_spectrogram(strains[0], events)\n",
        "plt.savefig(temp_dir_for_plots + f'event_on_specreogram_{str(i)}_.png')\n",
        "plt.close()"
      ]
    },
    {
      "cell_type": "code",
      "execution_count": null,
      "metadata": {
        "colab": {
          "base_uri": "https://localhost:8080/",
          "height": 1000
        },
        "id": "Z6nxieAhOFU-",
        "outputId": "b301568c-ed74-4e08-ba7b-4e4a7d091279"
      },
      "outputs": [],
      "source": [
        "#%matplotlib inline\n",
        "from gwpy.spectrogram import Spectrogram\n",
        "i=0\n",
        "for cluster in clusters:\n",
        "    merged_map, start, dt, df = cluster.get_sparse_map(\"likelihood\")\n",
        "    i+=1\n",
        "    plt = Spectrogram(merged_map, t0=start, dt=dt, f0=0, df=df).plot()\n",
        "    plt.colorbar()\n",
        "    plt.savefig(temp_dir_for_plots + f'likelihood_{str(i)}_.png')\n",
        "plt.close()"
      ]
    },
    {
      "cell_type": "code",
      "execution_count": null,
      "metadata": {
        "colab": {
          "base_uri": "https://localhost:8080/",
          "height": 1000
        },
        "id": "tk6qVpJ5OHAh",
        "outputId": "7125a41d-3daf-417c-d0e9-9ac5c63b0e75"
      },
      "outputs": [],
      "source": [
        "#%matplotlib inline\n",
        "from gwpy.spectrogram import Spectrogram\n",
        "i=0\n",
        "for cluster in clusters:\n",
        "    merged_map, start, dt, df = cluster.get_sparse_map(\"null\")\n",
        "    i+=1\n",
        "    plt = Spectrogram(merged_map, t0=start, dt=dt, f0=0, df=df).plot()\n",
        "    plt.colorbar()\n",
        "    plt.savefig(temp_dir_for_plots + f'null_{str(i)}_.png')\n",
        "plt.close()"
      ]
    },
    {
      "cell_type": "code",
      "execution_count": null,
      "metadata": {
        "colab": {
          "base_uri": "https://localhost:8080/",
          "height": 451
        },
        "id": "K8dQdWyWQLhZ",
        "outputId": "130331e2-08a4-4b99-e9f3-2a40c6d17d21"
      },
      "outputs": [],
      "source": [
        "from pycwb.modules.reconstruction import get_network_MRA_wave\n",
        "from pycwb.modules.plot.waveform import plot_reconstructed_waveforms\n",
        "from matplotlib import pyplot as plt\n",
        "\n",
        "event = events[0]\n",
        "cluster = clusters[0]\n",
        "reconstructed_waves = get_network_MRA_wave(config, cluster, config.rateANA, config.nIFO, config.TDRate,\n",
        "                                               'signal', 0, True)\n",
        "for reconstructed_wave in reconstructed_waves:\n",
        "  plt.plot(reconstructed_wave.sample_times, reconstructed_wave.data)\n",
        "plt.xlim((event.left[0], event.left[0] + event.stop[0] - event.start[0]))\n",
        "plt.savefig(temp_dir_for_plots + f'reconstructed_waveforms_{str(i)}_.png')\n",
        "plt.close()"
      ]
    },
    {
      "cell_type": "code",
      "execution_count": null,
      "metadata": {
        "colab": {
          "base_uri": "https://localhost:8080/"
        },
        "id": "r_xqQ3GQSiSb",
        "outputId": "2170fd09-c879-4029-cc72-96e5d18cbbac"
      },
      "outputs": [],
      "source": [
        "events"
      ]
    },
    {
      "cell_type": "code",
      "execution_count": null,
      "metadata": {
        "id": "VhoN-OwkS_TL"
      },
      "outputs": [],
      "source": []
    }
  ],
  "metadata": {
    "colab": {
      "provenance": []
    },
    "kernelspec": {
      "display_name": "pycwb",
      "language": "python",
      "name": "python3"
    },
    "language_info": {
      "codemirror_mode": {
        "name": "ipython",
        "version": 3
      },
      "file_extension": ".py",
      "mimetype": "text/x-python",
      "name": "python",
      "nbconvert_exporter": "python",
      "pygments_lexer": "ipython3",
      "version": "3.10.13"
    }
  },
  "nbformat": 4,
  "nbformat_minor": 0
}
